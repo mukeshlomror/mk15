{
  "nbformat": 4,
  "nbformat_minor": 0,
  "metadata": {
    "colab": {
      "name": "Copy of DIP/Assignment1.ipynb",
      "private_outputs": true,
      "provenance": [],
      "authorship_tag": "ABX9TyNolfDmmzimqsF/6+j8K7s9",
      "include_colab_link": true
    },
    "kernelspec": {
      "name": "python3",
      "display_name": "Python 3"
    },
    "accelerator": "GPU"
  },
  "cells": [
    {
      "cell_type": "markdown",
      "metadata": {
        "id": "view-in-github",
        "colab_type": "text"
      },
      "source": [
        "<a href=\"https://colab.research.google.com/github/mukeshlomror/mk15/blob/master/Copy_of_DIP_Assignment1.ipynb\" target=\"_parent\"><img src=\"https://colab.research.google.com/assets/colab-badge.svg\" alt=\"Open In Colab\"/></a>"
      ]
    },
    {
      "cell_type": "code",
      "metadata": {
        "id": "4v1O391M4Yno"
      },
      "source": [
        "import cv2 as cv\n",
        "import numpy as np\n",
        "import pandas as pd\n",
        "from google.colab.patches import cv2_imshow #for image display\n",
        "from skimage import io\n",
        "from PIL import Image\n",
        "import matplotlib.pyplot as plt"
      ],
      "execution_count": null,
      "outputs": []
    },
    {
      "cell_type": "code",
      "metadata": {
        "id": "CfL9vGCQ-cdp"
      },
      "source": [
        "#here madam i am just loading image through urls then just using imread and imshow functions for reading and displaying images.\n",
        "#i am also using BGR TO RGB conversition\n",
        "\n",
        "# here we are loading image through urls\n",
        "urls = [ \"https://image.shutterstock.com/image-photo/chariot-wheel-carved-into-wall-260nw-194158103.jpg\",\n",
        "        \"https://image.shutterstock.com/image-photo/chariot-vittala-temple-hampi-india-260nw-146780375.jpg\",\n",
        "        \"https://encrypted-tbn0.gstatic.com/images?q=tbn:ANd9GcR_sfUtD9wqJ4ggsiIkwzXkyXzDlvxw399o4Q&usqp=CAU\",]\n",
        "\n",
        "for url in urls:\n",
        "  image = io.imread(url)\n",
        "  image_2 = cv.cvtColor(image,cv.COLOR_BGR2RGB)\n",
        "  final_frame = cv.hconcat((image,image_2))\n",
        "  cv2_imshow(final_frame)\n",
        "  print('\\n')"
      ],
      "execution_count": null,
      "outputs": []
    },
    {
      "cell_type": "code",
      "metadata": {
        "id": "9TdKXFtsKt0A"
      },
      "source": [
        "#Here Madam I am using skyimage library for converting an rgb image into grayscale image.\n",
        "import matplotlib.pyplot as plt\n",
        "\n",
        "from skimage import data\n",
        "from skimage.color import rgb2gray\n",
        "\n",
        "original = data.camera()\n",
        "grayscale = rgb2gray(original)\n",
        "\n",
        "fig, axes = plt.subplots(1, 2, figsize=(8, 4))\n",
        "ax = axes.ravel()\n",
        "\n",
        "ax[0].imshow(original)\n",
        "ax[0].set_title(\"Original\")\n",
        "ax[1].imshow(grayscale, cmap=plt.cm.gray)\n",
        "ax[1].set_title(\"Grayscale\")\n",
        "\n",
        "fig.tight_layout()\n",
        "plt.show()"
      ],
      "execution_count": null,
      "outputs": []
    }
  ]
}